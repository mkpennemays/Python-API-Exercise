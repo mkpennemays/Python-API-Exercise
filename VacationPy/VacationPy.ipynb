{
 "cells": [
  {
   "cell_type": "markdown",
   "metadata": {},
   "source": [
    "VacationPy"
   ]
  },
  {
   "cell_type": "markdown",
   "metadata": {},
   "source": [
    "Read in file from previous exercise"
   ]
  },
  {
   "cell_type": "code",
   "execution_count": 1,
   "metadata": {},
   "outputs": [],
   "source": [
    "# Dependencies and Setup\n",
    "import matplotlib.pyplot as plt\n",
    "import pandas as pd\n",
    "import numpy as np\n",
    "import requests\n",
    "import time\n",
    "from scipy.stats import linregress\n",
    "from pprint import pprint\n",
    "import gmaps\n",
    "\n",
    "# Import API key\n",
    "from api_keys import g_key\n",
    "\n",
    "# Incorporated citipy to determine city based on latitude and longitude\n",
    "from citipy import citipy"
   ]
  },
  {
   "cell_type": "code",
   "execution_count": 2,
   "metadata": {},
   "outputs": [
    {
     "data": {
      "text/html": [
       "<div>\n",
       "<style scoped>\n",
       "    .dataframe tbody tr th:only-of-type {\n",
       "        vertical-align: middle;\n",
       "    }\n",
       "\n",
       "    .dataframe tbody tr th {\n",
       "        vertical-align: top;\n",
       "    }\n",
       "\n",
       "    .dataframe thead th {\n",
       "        text-align: right;\n",
       "    }\n",
       "</style>\n",
       "<table border=\"1\" class=\"dataframe\">\n",
       "  <thead>\n",
       "    <tr style=\"text-align: right;\">\n",
       "      <th></th>\n",
       "      <th>cityid</th>\n",
       "      <th>cloudiness</th>\n",
       "      <th>country</th>\n",
       "      <th>date_time</th>\n",
       "      <th>humidity</th>\n",
       "      <th>lat</th>\n",
       "      <th>lon</th>\n",
       "      <th>max_temp</th>\n",
       "      <th>name</th>\n",
       "      <th>temp</th>\n",
       "      <th>wind</th>\n",
       "    </tr>\n",
       "  </thead>\n",
       "  <tbody>\n",
       "    <tr>\n",
       "      <th>0</th>\n",
       "      <td>1651810.0</td>\n",
       "      <td>100.0</td>\n",
       "      <td>TL</td>\n",
       "      <td>1.607302e+09</td>\n",
       "      <td>87.0</td>\n",
       "      <td>-8.93</td>\n",
       "      <td>125.41</td>\n",
       "      <td>21.33</td>\n",
       "      <td>airai</td>\n",
       "      <td>21.33</td>\n",
       "      <td>0.85</td>\n",
       "    </tr>\n",
       "    <tr>\n",
       "      <th>1</th>\n",
       "      <td>2094027.0</td>\n",
       "      <td>56.0</td>\n",
       "      <td>PG</td>\n",
       "      <td>1.607302e+09</td>\n",
       "      <td>66.0</td>\n",
       "      <td>-6.22</td>\n",
       "      <td>155.63</td>\n",
       "      <td>29.84</td>\n",
       "      <td>kieta</td>\n",
       "      <td>29.84</td>\n",
       "      <td>1.75</td>\n",
       "    </tr>\n",
       "    <tr>\n",
       "      <th>2</th>\n",
       "      <td>124291.0</td>\n",
       "      <td>20.0</td>\n",
       "      <td>IR</td>\n",
       "      <td>1.607302e+09</td>\n",
       "      <td>93.0</td>\n",
       "      <td>33.12</td>\n",
       "      <td>46.16</td>\n",
       "      <td>4.00</td>\n",
       "      <td>mehran</td>\n",
       "      <td>4.00</td>\n",
       "      <td>1.00</td>\n",
       "    </tr>\n",
       "    <tr>\n",
       "      <th>3</th>\n",
       "      <td>2037078.0</td>\n",
       "      <td>0.0</td>\n",
       "      <td>CN</td>\n",
       "      <td>1.607302e+09</td>\n",
       "      <td>88.0</td>\n",
       "      <td>49.20</td>\n",
       "      <td>119.70</td>\n",
       "      <td>-15.36</td>\n",
       "      <td>hailar</td>\n",
       "      <td>-15.36</td>\n",
       "      <td>6.77</td>\n",
       "    </tr>\n",
       "    <tr>\n",
       "      <th>4</th>\n",
       "      <td>6201424.0</td>\n",
       "      <td>78.0</td>\n",
       "      <td>NZ</td>\n",
       "      <td>1.607302e+09</td>\n",
       "      <td>63.0</td>\n",
       "      <td>-46.19</td>\n",
       "      <td>168.86</td>\n",
       "      <td>18.33</td>\n",
       "      <td>mataura</td>\n",
       "      <td>18.33</td>\n",
       "      <td>4.92</td>\n",
       "    </tr>\n",
       "  </tbody>\n",
       "</table>\n",
       "</div>"
      ],
      "text/plain": [
       "      cityid  cloudiness country     date_time  humidity    lat     lon  \\\n",
       "0  1651810.0       100.0      TL  1.607302e+09      87.0  -8.93  125.41   \n",
       "1  2094027.0        56.0      PG  1.607302e+09      66.0  -6.22  155.63   \n",
       "2   124291.0        20.0      IR  1.607302e+09      93.0  33.12   46.16   \n",
       "3  2037078.0         0.0      CN  1.607302e+09      88.0  49.20  119.70   \n",
       "4  6201424.0        78.0      NZ  1.607302e+09      63.0 -46.19  168.86   \n",
       "\n",
       "   max_temp     name   temp  wind  \n",
       "0     21.33    airai  21.33  0.85  \n",
       "1     29.84    kieta  29.84  1.75  \n",
       "2      4.00   mehran   4.00  1.00  \n",
       "3    -15.36   hailar -15.36  6.77  \n",
       "4     18.33  mataura  18.33  4.92  "
      ]
     },
     "execution_count": 2,
     "metadata": {},
     "output_type": "execute_result"
    }
   ],
   "source": [
    "city_data = \"../WeatherPy/Output/city_weather_data.csv\"\n",
    "\n",
    "city_weather_data = pd.read_csv(city_data, encoding=\"ISO-8859-1\")\n",
    "city_weather_data.head()"
   ]
  },
  {
   "cell_type": "markdown",
   "metadata": {},
   "source": [
    "Create a heat map that displays the humidity for every city from Part I."
   ]
  },
  {
   "cell_type": "code",
   "execution_count": 3,
   "metadata": {},
   "outputs": [],
   "source": [
    "gmaps.configure(api_key=g_key)\n",
    "\n",
    "locations = city_weather_data[[\"lat\", \"lon\"]].astype(float)\n",
    "humidity = city_weather_data[\"humidity\"].astype(float)"
   ]
  },
  {
   "cell_type": "code",
   "execution_count": 4,
   "metadata": {},
   "outputs": [
    {
     "data": {
      "application/vnd.jupyter.widget-view+json": {
       "model_id": "55e2a0ade00642b192b0b7f18108fa22",
       "version_major": 2,
       "version_minor": 0
      },
      "text/plain": [
       "Figure(layout=FigureLayout(height='420px'))"
      ]
     },
     "metadata": {},
     "output_type": "display_data"
    }
   ],
   "source": [
    "fig = gmaps.figure()\n",
    "\n",
    "heat_layer = gmaps.heatmap_layer(locations, weights=humidity, \n",
    "                                 dissipating=False, max_intensity=100,\n",
    "                                 point_radius = 1)\n",
    "\n",
    "fig.add_layer(heat_layer)\n",
    "\n",
    "fig"
   ]
  },
  {
   "cell_type": "markdown",
   "metadata": {},
   "source": [
    "Narrow down the DataFrame to find your ideal weather condition. For example:\n",
    "\n",
    "\n",
    "A max temperature lower than 80 degrees but higher than 70.\n",
    "\n",
    "\n",
    "Wind speed less than 10 mph.\n",
    "\n",
    "\n",
    "Zero cloudiness.\n",
    "\n",
    "\n",
    "Drop any rows that don't contain all three conditions. You want to be sure the weather is ideal."
   ]
  },
  {
   "cell_type": "code",
   "execution_count": null,
   "metadata": {},
   "outputs": [],
   "source": []
  },
  {
   "cell_type": "code",
   "execution_count": null,
   "metadata": {},
   "outputs": [],
   "source": []
  },
  {
   "cell_type": "markdown",
   "metadata": {},
   "source": [
    "Using Google Places API to find the first hotel for each city located within 5000 meters of your coordinates."
   ]
  },
  {
   "cell_type": "code",
   "execution_count": null,
   "metadata": {},
   "outputs": [],
   "source": []
  },
  {
   "cell_type": "code",
   "execution_count": null,
   "metadata": {},
   "outputs": [],
   "source": []
  },
  {
   "cell_type": "markdown",
   "metadata": {},
   "source": [
    "Plot the hotels on top of the humidity heatmap with each pin containing the Hotel Name, City, and Country."
   ]
  },
  {
   "cell_type": "code",
   "execution_count": null,
   "metadata": {},
   "outputs": [],
   "source": []
  },
  {
   "cell_type": "code",
   "execution_count": null,
   "metadata": {},
   "outputs": [],
   "source": []
  }
 ],
 "metadata": {
  "kernelspec": {
   "display_name": "AdvPythonEnv",
   "language": "python",
   "name": "advpythonenv"
  },
  "language_info": {
   "codemirror_mode": {
    "name": "ipython",
    "version": 3
   },
   "file_extension": ".py",
   "mimetype": "text/x-python",
   "name": "python",
   "nbconvert_exporter": "python",
   "pygments_lexer": "ipython3",
   "version": "3.6.10"
  }
 },
 "nbformat": 4,
 "nbformat_minor": 4
}
